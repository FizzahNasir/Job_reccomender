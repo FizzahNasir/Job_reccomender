{
 "cells": [
  {
   "cell_type": "code",
   "execution_count": 3,
   "id": "8fa2ac9c-7f64-4cc3-bf1c-1c0805810c7b",
   "metadata": {},
   "outputs": [],
   "source": [
    "import numpy as np\n",
    "import pandas as pd"
   ]
  },
  {
   "cell_type": "markdown",
   "id": "a60102e2-80aa-4a60-9728-93633a981e7e",
   "metadata": {},
   "source": [
    "#Storin my data into a variable"
   ]
  },
  {
   "cell_type": "code",
   "execution_count": 4,
   "id": "d3762474-ef08-4d43-8db2-0172188f59d8",
   "metadata": {},
   "outputs": [
    {
     "data": {
      "text/html": [
       "<div>\n",
       "<style scoped>\n",
       "    .dataframe tbody tr th:only-of-type {\n",
       "        vertical-align: middle;\n",
       "    }\n",
       "\n",
       "    .dataframe tbody tr th {\n",
       "        vertical-align: top;\n",
       "    }\n",
       "\n",
       "    .dataframe thead th {\n",
       "        text-align: right;\n",
       "    }\n",
       "</style>\n",
       "<table border=\"1\" class=\"dataframe\">\n",
       "  <thead>\n",
       "    <tr style=\"text-align: right;\">\n",
       "      <th></th>\n",
       "      <th>Job.ID</th>\n",
       "      <th>Provider</th>\n",
       "      <th>Status</th>\n",
       "      <th>Slug</th>\n",
       "      <th>Title</th>\n",
       "      <th>Position</th>\n",
       "      <th>Company</th>\n",
       "      <th>City</th>\n",
       "      <th>State.Name</th>\n",
       "      <th>State.Code</th>\n",
       "      <th>...</th>\n",
       "      <th>Industry</th>\n",
       "      <th>Job.Description</th>\n",
       "      <th>Requirements</th>\n",
       "      <th>Salary</th>\n",
       "      <th>Listing.Start</th>\n",
       "      <th>Listing.End</th>\n",
       "      <th>Employment.Type</th>\n",
       "      <th>Education.Required</th>\n",
       "      <th>Created.At</th>\n",
       "      <th>Updated.At</th>\n",
       "    </tr>\n",
       "  </thead>\n",
       "  <tbody>\n",
       "    <tr>\n",
       "      <th>0</th>\n",
       "      <td>111</td>\n",
       "      <td>1</td>\n",
       "      <td>open</td>\n",
       "      <td>palo-alto-ca-tacolicious-server</td>\n",
       "      <td>Server @ Tacolicious</td>\n",
       "      <td>Server</td>\n",
       "      <td>Tacolicious</td>\n",
       "      <td>Palo Alto</td>\n",
       "      <td>California</td>\n",
       "      <td>CA</td>\n",
       "      <td>...</td>\n",
       "      <td>Food and Beverages</td>\n",
       "      <td>Tacolicious' first Palo Alto store just opened...</td>\n",
       "      <td>NaN</td>\n",
       "      <td>8.0</td>\n",
       "      <td>NaN</td>\n",
       "      <td>NaN</td>\n",
       "      <td>Part-Time</td>\n",
       "      <td>NaN</td>\n",
       "      <td>2013-03-12 02:08:28 UTC</td>\n",
       "      <td>2014-08-16 15:35:36 UTC</td>\n",
       "    </tr>\n",
       "    <tr>\n",
       "      <th>1</th>\n",
       "      <td>113</td>\n",
       "      <td>1</td>\n",
       "      <td>open</td>\n",
       "      <td>san-francisco-ca-claude-lane-kitchen-staff-chef</td>\n",
       "      <td>Kitchen Staff/Chef @ Claude Lane</td>\n",
       "      <td>Kitchen Staff/Chef</td>\n",
       "      <td>Claude Lane</td>\n",
       "      <td>San Francisco</td>\n",
       "      <td>California</td>\n",
       "      <td>CA</td>\n",
       "      <td>...</td>\n",
       "      <td>Food and Beverages</td>\n",
       "      <td>\\r\\n\\r\\nNew French Brasserie in S.F. Financia...</td>\n",
       "      <td>NaN</td>\n",
       "      <td>0.0</td>\n",
       "      <td>NaN</td>\n",
       "      <td>NaN</td>\n",
       "      <td>Part-Time</td>\n",
       "      <td>NaN</td>\n",
       "      <td>2013-04-12 08:36:36 UTC</td>\n",
       "      <td>2014-08-16 15:35:36 UTC</td>\n",
       "    </tr>\n",
       "    <tr>\n",
       "      <th>2</th>\n",
       "      <td>117</td>\n",
       "      <td>1</td>\n",
       "      <td>open</td>\n",
       "      <td>san-francisco-ca-machka-restaurants-corp-barte...</td>\n",
       "      <td>Bartender @ Machka Restaurants Corp.</td>\n",
       "      <td>Bartender</td>\n",
       "      <td>Machka Restaurants Corp.</td>\n",
       "      <td>San Francisco</td>\n",
       "      <td>California</td>\n",
       "      <td>CA</td>\n",
       "      <td>...</td>\n",
       "      <td>Food and Beverages</td>\n",
       "      <td>We are a popular Mediterranean wine bar and re...</td>\n",
       "      <td>NaN</td>\n",
       "      <td>11.0</td>\n",
       "      <td>NaN</td>\n",
       "      <td>NaN</td>\n",
       "      <td>Part-Time</td>\n",
       "      <td>NaN</td>\n",
       "      <td>2013-07-16 09:34:10 UTC</td>\n",
       "      <td>2014-08-16 15:35:37 UTC</td>\n",
       "    </tr>\n",
       "  </tbody>\n",
       "</table>\n",
       "<p>3 rows × 23 columns</p>\n",
       "</div>"
      ],
      "text/plain": [
       "   Job.ID  Provider Status                                               Slug  \\\n",
       "0     111         1   open                    palo-alto-ca-tacolicious-server   \n",
       "1     113         1   open    san-francisco-ca-claude-lane-kitchen-staff-chef   \n",
       "2     117         1   open  san-francisco-ca-machka-restaurants-corp-barte...   \n",
       "\n",
       "                                  Title            Position  \\\n",
       "0                  Server @ Tacolicious              Server   \n",
       "1      Kitchen Staff/Chef @ Claude Lane  Kitchen Staff/Chef   \n",
       "2  Bartender @ Machka Restaurants Corp.           Bartender   \n",
       "\n",
       "                    Company           City  State.Name State.Code  ...  \\\n",
       "0               Tacolicious      Palo Alto  California         CA  ...   \n",
       "1               Claude Lane  San Francisco  California         CA  ...   \n",
       "2  Machka Restaurants Corp.  San Francisco  California         CA  ...   \n",
       "\n",
       "             Industry                                    Job.Description  \\\n",
       "0  Food and Beverages  Tacolicious' first Palo Alto store just opened...   \n",
       "1  Food and Beverages   \\r\\n\\r\\nNew French Brasserie in S.F. Financia...   \n",
       "2  Food and Beverages  We are a popular Mediterranean wine bar and re...   \n",
       "\n",
       "   Requirements Salary Listing.Start  Listing.End  Employment.Type  \\\n",
       "0           NaN    8.0           NaN          NaN        Part-Time   \n",
       "1           NaN    0.0           NaN          NaN        Part-Time   \n",
       "2           NaN   11.0           NaN          NaN        Part-Time   \n",
       "\n",
       "  Education.Required               Created.At               Updated.At  \n",
       "0                NaN  2013-03-12 02:08:28 UTC  2014-08-16 15:35:36 UTC  \n",
       "1                NaN  2013-04-12 08:36:36 UTC  2014-08-16 15:35:36 UTC  \n",
       "2                NaN  2013-07-16 09:34:10 UTC  2014-08-16 15:35:37 UTC  \n",
       "\n",
       "[3 rows x 23 columns]"
      ]
     },
     "execution_count": 4,
     "metadata": {},
     "output_type": "execute_result"
    }
   ],
   "source": [
    "df = pd.read_csv('Combined_Jobs_Final.csv')\n",
    "df.head(3)\n"
   ]
  },
  {
   "cell_type": "markdown",
   "id": "da7f9a2c-ce2b-49af-af21-d8f2cccab130",
   "metadata": {},
   "source": [
    "#In order to study the dataset"
   ]
  },
  {
   "cell_type": "code",
   "execution_count": 5,
   "id": "53ecff6c-2458-4784-9b9b-e4ef0c78edd0",
   "metadata": {},
   "outputs": [
    {
     "name": "stdout",
     "output_type": "stream",
     "text": [
      "<class 'pandas.core.frame.DataFrame'>\n",
      "RangeIndex: 84090 entries, 0 to 84089\n",
      "Data columns (total 23 columns):\n",
      " #   Column              Non-Null Count  Dtype  \n",
      "---  ------              --------------  -----  \n",
      " 0   Job.ID              84090 non-null  int64  \n",
      " 1   Provider            84090 non-null  int64  \n",
      " 2   Status              84090 non-null  object \n",
      " 3   Slug                84090 non-null  object \n",
      " 4   Title               84090 non-null  object \n",
      " 5   Position            84090 non-null  object \n",
      " 6   Company             81819 non-null  object \n",
      " 7   City                83955 non-null  object \n",
      " 8   State.Name          83919 non-null  object \n",
      " 9   State.Code          83919 non-null  object \n",
      " 10  Address             36 non-null     object \n",
      " 11  Latitude            84090 non-null  float64\n",
      " 12  Longitude           84090 non-null  float64\n",
      " 13  Industry            267 non-null    object \n",
      " 14  Job.Description     84034 non-null  object \n",
      " 15  Requirements        0 non-null      float64\n",
      " 16  Salary              229 non-null    float64\n",
      " 17  Listing.Start       83407 non-null  object \n",
      " 18  Listing.End         83923 non-null  object \n",
      " 19  Employment.Type     84080 non-null  object \n",
      " 20  Education.Required  83823 non-null  object \n",
      " 21  Created.At          84090 non-null  object \n",
      " 22  Updated.At          84090 non-null  object \n",
      "dtypes: float64(4), int64(2), object(17)\n",
      "memory usage: 14.8+ MB\n"
     ]
    }
   ],
   "source": [
    "df.info()"
   ]
  },
  {
   "cell_type": "markdown",
   "id": "2c5711d5-1c39-47db-b3d7-b1c207893605",
   "metadata": {},
   "source": [
    "#Extracting title and description from dataset"
   ]
  },
  {
   "cell_type": "code",
   "execution_count": 6,
   "id": "643eaac6-a85a-43a2-81be-ba83b415f872",
   "metadata": {},
   "outputs": [
    {
     "data": {
      "text/html": [
       "<div>\n",
       "<style scoped>\n",
       "    .dataframe tbody tr th:only-of-type {\n",
       "        vertical-align: middle;\n",
       "    }\n",
       "\n",
       "    .dataframe tbody tr th {\n",
       "        vertical-align: top;\n",
       "    }\n",
       "\n",
       "    .dataframe thead th {\n",
       "        text-align: right;\n",
       "    }\n",
       "</style>\n",
       "<table border=\"1\" class=\"dataframe\">\n",
       "  <thead>\n",
       "    <tr style=\"text-align: right;\">\n",
       "      <th></th>\n",
       "      <th>Title</th>\n",
       "      <th>Job.Description</th>\n",
       "    </tr>\n",
       "  </thead>\n",
       "  <tbody>\n",
       "    <tr>\n",
       "      <th>0</th>\n",
       "      <td>Server @ Tacolicious</td>\n",
       "      <td>Tacolicious' first Palo Alto store just opened...</td>\n",
       "    </tr>\n",
       "    <tr>\n",
       "      <th>1</th>\n",
       "      <td>Kitchen Staff/Chef @ Claude Lane</td>\n",
       "      <td>\\r\\n\\r\\nNew French Brasserie in S.F. Financia...</td>\n",
       "    </tr>\n",
       "    <tr>\n",
       "      <th>2</th>\n",
       "      <td>Bartender @ Machka Restaurants Corp.</td>\n",
       "      <td>We are a popular Mediterranean wine bar and re...</td>\n",
       "    </tr>\n",
       "  </tbody>\n",
       "</table>\n",
       "</div>"
      ],
      "text/plain": [
       "                                  Title  \\\n",
       "0                  Server @ Tacolicious   \n",
       "1      Kitchen Staff/Chef @ Claude Lane   \n",
       "2  Bartender @ Machka Restaurants Corp.   \n",
       "\n",
       "                                     Job.Description  \n",
       "0  Tacolicious' first Palo Alto store just opened...  \n",
       "1   \\r\\n\\r\\nNew French Brasserie in S.F. Financia...  \n",
       "2  We are a popular Mediterranean wine bar and re...  "
      ]
     },
     "execution_count": 6,
     "metadata": {},
     "output_type": "execute_result"
    }
   ],
   "source": [
    "df = df[['Title','Job.Description']]\n",
    "df.head(3)"
   ]
  },
  {
   "cell_type": "code",
   "execution_count": 7,
   "id": "da435835-5c19-4c0f-a2ff-d381f2e62d88",
   "metadata": {},
   "outputs": [
    {
     "data": {
      "text/plain": [
       "'Kitchen Staff/Chef @ Claude Lane'"
      ]
     },
     "execution_count": 7,
     "metadata": {},
     "output_type": "execute_result"
    }
   ],
   "source": [
    "df['Title'][1]"
   ]
  },
  {
   "cell_type": "code",
   "execution_count": 8,
   "id": "305a6fb0-6960-4a08-9ef4-cb03f0b20bee",
   "metadata": {},
   "outputs": [
    {
     "data": {
      "text/plain": [
       "' \\r\\n\\r\\nNew French Brasserie in S.F. Financial District Seeks Chef\\r\\nWe are seeking an energetic, dynamic chef to take charge and grow with our company. Our ideal candidate is a motivated self-starter, has a great work ethic and is ready for the challenge of building their own team with executive support. \\r\\n\\r\\nThis position is a perfect fit for a talented chef ready to take the next step, someone who can multi task in a high volume kitchen and has exceptional organizational skills. Position requirements are experience with French cuisine, a minimum of 5 years as a sous chef in high volume, full service restaurant. He or she must be a team player, leading by example and working side by side with other members of the team. \\r\\n\\r\\nComputer and management skills are a must, as are experience in ordering, inventory and cost control. The right candidate will have previously demonstrated an understanding of leadership and accountability, and an infectious, energetic approach to problem solving and facing challenges. \\r\\n\\r\\nWe are an equal opportunity employer. Qualified applicants are considered for employment without regard to age, race, religion, sex, national origin, sexual orientation, disability, or veteran status. \\r\\n'"
      ]
     },
     "execution_count": 8,
     "metadata": {},
     "output_type": "execute_result"
    }
   ],
   "source": [
    "df['Job.Description'][1]"
   ]
  },
  {
   "cell_type": "code",
   "execution_count": 9,
   "id": "90fe184f-1bc1-4103-a9c6-3e0988f2ce24",
   "metadata": {},
   "outputs": [],
   "source": [
    "df = df.sample(n=1000,random_state=42)"
   ]
  },
  {
   "cell_type": "markdown",
   "id": "6dd719d3-2a35-4c4c-b68c-e24f90e2f7b5",
   "metadata": {},
   "source": [
    "#Data cleaning\n"
   ]
  },
  {
   "cell_type": "code",
   "execution_count": 10,
   "id": "247c7a1c-f5fc-446f-839f-8bc2c013e824",
   "metadata": {},
   "outputs": [
    {
     "name": "stdout",
     "output_type": "stream",
     "text": [
      "Requirement already satisfied: nltk in c:\\users\\centu\\appdata\\local\\programs\\python\\python312\\lib\\site-packages (3.9.1)\n",
      "Requirement already satisfied: click in c:\\users\\centu\\appdata\\local\\programs\\python\\python312\\lib\\site-packages (from nltk) (8.1.8)\n",
      "Requirement already satisfied: joblib in c:\\users\\centu\\appdata\\local\\programs\\python\\python312\\lib\\site-packages (from nltk) (1.4.2)\n",
      "Requirement already satisfied: regex>=2021.8.3 in c:\\users\\centu\\appdata\\local\\programs\\python\\python312\\lib\\site-packages (from nltk) (2024.11.6)\n",
      "Requirement already satisfied: tqdm in c:\\users\\centu\\appdata\\local\\programs\\python\\python312\\lib\\site-packages (from nltk) (4.67.1)\n",
      "Requirement already satisfied: colorama in c:\\users\\centu\\appdata\\local\\programs\\python\\python312\\lib\\site-packages (from click->nltk) (0.4.6)\n"
     ]
    }
   ],
   "source": [
    "!pip install nltk --user"
   ]
  },
  {
   "cell_type": "code",
   "execution_count": 11,
   "id": "3c6c955a",
   "metadata": {},
   "outputs": [],
   "source": [
    "import re\n",
    "import nltk\n",
    "import nltk.data\n",
    "\n"
   ]
  },
  {
   "cell_type": "code",
   "execution_count": 12,
   "id": "3ac9d07f-e197-4182-96d3-f6431a049748",
   "metadata": {},
   "outputs": [
    {
     "name": "stderr",
     "output_type": "stream",
     "text": [
      "[nltk_data] Downloading package punkt to\n",
      "[nltk_data]     C:/Users/centu/AppData/Roaming/nltk_data...\n",
      "[nltk_data]   Package punkt is already up-to-date!\n",
      "[nltk_data] Downloading package stopwords to\n",
      "[nltk_data]     C:/Users/centu/AppData/Roaming/nltk_data...\n",
      "[nltk_data]   Package stopwords is already up-to-date!\n"
     ]
    }
   ],
   "source": [
    "\n",
    "from nltk.stem.porter import PorterStemmer\n",
    "from nltk.corpus import stopwords\n",
    "from nltk.tokenize import word_tokenize\n",
    "\n",
    "nltk.download('punkt', download_dir='C:/Users/centu/AppData/Roaming/nltk_data')\n",
    "nltk.download('stopwords', download_dir='C:/Users/centu/AppData/Roaming/nltk_data')\n",
    "nltk.data.path.append('C:/Users/centu/AppData/Roaming/nltk_data')"
   ]
  },
  {
   "cell_type": "markdown",
   "id": "f6b14d5d-fbce-43fe-9cd6-325d43c6d274",
   "metadata": {},
   "source": [
    "#Make an object of porterstemmer"
   ]
  },
  {
   "cell_type": "code",
   "execution_count": 13,
   "id": "10fec3ad-85ba-4915-8744-20d91a5f3626",
   "metadata": {},
   "outputs": [],
   "source": [
    "ps = PorterStemmer()"
   ]
  },
  {
   "cell_type": "markdown",
   "id": "f066b7d0-4b91-46aa-9c08-f89b072ddc25",
   "metadata": {},
   "source": [
    "#we want text letters and digits"
   ]
  },
  {
   "cell_type": "code",
   "execution_count": 14,
   "id": "05456bf2-6a2e-4f8f-a005-07aafbe6d938",
   "metadata": {},
   "outputs": [],
   "source": [
    "def cleaning(txt):\n",
    "    # PROPER regex pattern to keep only alphanumeric and whitespace\n",
    "    cleaned_txt = re.sub(r'[^a-zA-Z0-9\\s]', '', txt)\n",
    "    tokens = nltk.word_tokenize(cleaned_txt.lower())\n",
    "    return tokens"
   ]
  },
  {
   "cell_type": "code",
   "execution_count": 15,
   "id": "02c62251-0779-4b47-924e-256c1ee004df",
   "metadata": {},
   "outputs": [
    {
     "name": "stdout",
     "output_type": "stream",
     "text": [
      "['this', 'is', 'my', 'book', 'with', '8987', 'digital', 'and']\n"
     ]
    }
   ],
   "source": [
    "test_text = 'this is my book with 8987 digital and \\n\\n\\n\\n &^%'  \n",
    "print(cleaning(test_text))"
   ]
  },
  {
   "cell_type": "code",
   "execution_count": 69,
   "id": "41db585e-902d-4c5c-a40c-d45d3bfa5919",
   "metadata": {},
   "outputs": [],
   "source": [
    "# 1. FIRST ensure NLTK is properly installed and set up\n",
    "import subprocess\n",
    "import sys\n",
    "import re\n",
    "\n",
    "try:\n",
    "    import nltk\n",
    "    from nltk.tokenize import word_tokenize\n",
    "except ModuleNotFoundError:\n",
    "    subprocess.check_call([sys.executable, \"-m\", \"pip\", \"install\", \"nltk\"])\n",
    "    import nltk\n",
    "    from nltk.tokenize import word_tokenize\n",
    "\n"
   ]
  },
  {
   "cell_type": "code",
   "execution_count": 70,
   "id": "befd10d5",
   "metadata": {},
   "outputs": [],
   "source": [
    "# 2. DOWNLOAD REQUIRED DATA with verification\n",
    "try:\n",
    "    nltk.download('punkt', quiet=True)\n",
    "    # Verify punkt is working\n",
    "    word_tokenize(\"Test sentence.\")\n",
    "except LookupError:\n",
    "    nltk.download('punkt', force=True)"
   ]
  },
  {
   "cell_type": "code",
   "execution_count": 71,
   "id": "6328c687",
   "metadata": {},
   "outputs": [],
   "source": [
    "# 3. CORRECTED CLEANING FUNCTION\n",
    "def cleaning(text):\n",
    "    \"\"\"\n",
    "    Properly cleans text by:\n",
    "    1. Keeping only alphanumeric characters and whitespace\n",
    "    2. Converting to lowercase\n",
    "    3. Tokenizing the result\n",
    "    \"\"\"\n",
    "    # Fixed regex pattern (removes all except letters, numbers, spaces)\n",
    "    cleaned_text = re.sub(r'[^\\w\\s]', '', text)\n",
    "    # Tokenize with error handling\n",
    "    try:\n",
    "        tokens = word_tokenize(cleaned_text.lower())\n",
    "        #return tokens\n",
    "        #removes prepositions\n",
    "        stemming = [ps.stem(word) for word in tokens if word not in stopwords.words('english')]\n",
    "        return \" \".join(stemming)\n",
    "    except LookupError:\n",
    "        nltk.download('punkt', force=True)\n",
    "        return cleaning(text) \n",
    "        #return word_tokenize(cleaned_text.lower())"
   ]
  },
  {
   "cell_type": "code",
   "execution_count": 121,
   "id": "f80c8b83",
   "metadata": {},
   "outputs": [
    {
     "name": "stdout",
     "output_type": "stream",
     "text": [
      "Cleaning Result: book 8987 digit love\n"
     ]
    }
   ],
   "source": [
    "# 4. TEST WITH PROPER STRING FORMATTING\n",
    "test_text = 'this is my book with @ 8987 digital loving and \\n\\n\\n\\n &&%'\n",
    "print(\"Cleaning Result:\", cleaning(test_text))"
   ]
  },
  {
   "cell_type": "code",
   "execution_count": 127,
   "id": "83aa4601-f86f-467b-b930-5211d79bd32a",
   "metadata": {},
   "outputs": [],
   "source": [
    "# Assuming your original cleaning() function is already defined\n",
    "df['Title'] = df['Title'].apply(cleaning)\n",
    "df['Job.Description'] = df['Job.Description'].apply(cleaning)"
   ]
  },
  {
   "cell_type": "code",
   "execution_count": 122,
   "id": "0d16b325-7c67-4de3-b534-34425ce01f9e",
   "metadata": {},
   "outputs": [],
   "source": [
    "df['Title']== df['Title'].astype(str).apply(lambda x: cleaning(x))\n",
    "df['Job.Description'] = df['Job.Description'].astype(str).apply(lambda x: cleaning(x))"
   ]
  },
  {
   "cell_type": "code",
   "execution_count": 128,
   "id": "f52341d5-8a0e-4b84-bd04-ad7b5572aeac",
   "metadata": {},
   "outputs": [
    {
     "data": {
      "text/plain": [
       "64119                          site director knowledg univ\n",
       "35827                          administr assist officeteam\n",
       "72100                     account manag chi payment system\n",
       "46355    outsid whole sale rep parttim river front chry...\n",
       "34166      custom servic rep help peopl hear loss captionc\n",
       "                               ...                        \n",
       "66282      sale repr sale associ entri level vector market\n",
       "39515                             staff account accountemp\n",
       "69231                    unarm secur offic us secur associ\n",
       "69618                  line cook crown plaza independ oper\n",
       "6144     kitchen manag job detail artesian hotel casino...\n",
       "Name: Title, Length: 1000, dtype: object"
      ]
     },
     "execution_count": 128,
     "metadata": {},
     "output_type": "execute_result"
    }
   ],
   "source": [
    "df['Title']"
   ]
  },
  {
   "cell_type": "code",
   "execution_count": 88,
   "id": "0bdc0d0e-0eb3-4879-a4d5-eb7bd8fbe55f",
   "metadata": {},
   "outputs": [
    {
     "data": {
      "text/plain": [
       "64119    job summari knowledg univ ku site director sit...\n",
       "35827    ref id 03110118480classif secretaryadmin asstc...\n",
       "72100    yoursquor energet motiv hardwork look prosper ...\n",
       "46355    outsid whole sale rep job respon sale repr com...\n",
       "34166    captionc commun assist imagin life without tel...\n",
       "                               ...                        \n",
       "66282    nbsp eager learn opportun whether look parttim...\n",
       "39515    ref id02120107460classificationaccount staffco...\n",
       "69231    direct supervi unarm secur offic respon patrol...\n",
       "69618    summari respon maintain set food product quali...\n",
       "6144     posit descript provid leadership supervi direc...\n",
       "Name: Job.Description, Length: 1000, dtype: object"
      ]
     },
     "execution_count": 88,
     "metadata": {},
     "output_type": "execute_result"
    }
   ],
   "source": [
    "df['Job.Description']"
   ]
  },
  {
   "cell_type": "code",
   "execution_count": 129,
   "id": "508d362f-dbb2-490f-ae5d-0a841d0576e4",
   "metadata": {},
   "outputs": [
    {
     "name": "stdout",
     "output_type": "stream",
     "text": [
      "Index(['Title', 'Job.Description', 'Cleaned_Title', 'new_col', 'clean_title'], dtype='object')\n"
     ]
    }
   ],
   "source": [
    "print(df.columns)\n"
   ]
  },
  {
   "cell_type": "code",
   "execution_count": 130,
   "id": "e78b3d54-a697-4f75-ab6d-d01f9204b52c",
   "metadata": {},
   "outputs": [
    {
     "data": {
      "text/plain": [
       "'job summari knowledg univ ku site director site leader inspir children teacher alik learn grow passion educ excel confid teach children adult use nation recogn curriculum framework creat uniqu engag classroom experi commit make site success know mean relationship children famili team import success fulli engag enthusiast work eager share knowledg job respon essenti function basic expect site director cour creativ new way meet exceed expect encourag long requir essenti function also met supervi children staff record keep licen record child file lesson plan implement mainten safe welcom classroom environ build relationship commun school recruit new student program applic must strong organiz skill'"
      ]
     },
     "execution_count": 130,
     "metadata": {},
     "output_type": "execute_result"
    }
   ],
   "source": [
    "df['Job.Description'][64119 ]"
   ]
  },
  {
   "cell_type": "code",
   "execution_count": 132,
   "id": "44e2aab5-5d8e-4eef-84e4-ecab5fbc8ca4",
   "metadata": {},
   "outputs": [
    {
     "data": {
      "text/html": [
       "<div>\n",
       "<style scoped>\n",
       "    .dataframe tbody tr th:only-of-type {\n",
       "        vertical-align: middle;\n",
       "    }\n",
       "\n",
       "    .dataframe tbody tr th {\n",
       "        vertical-align: top;\n",
       "    }\n",
       "\n",
       "    .dataframe thead th {\n",
       "        text-align: right;\n",
       "    }\n",
       "</style>\n",
       "<table border=\"1\" class=\"dataframe\">\n",
       "  <thead>\n",
       "    <tr style=\"text-align: right;\">\n",
       "      <th></th>\n",
       "      <th>Title</th>\n",
       "      <th>Job.Description</th>\n",
       "      <th>Cleaned_Title</th>\n",
       "      <th>new_col</th>\n",
       "      <th>clean_title</th>\n",
       "    </tr>\n",
       "  </thead>\n",
       "  <tbody>\n",
       "    <tr>\n",
       "      <th>64119</th>\n",
       "      <td>site director knowledg univ</td>\n",
       "      <td>job summari knowledg univ ku site director sit...</td>\n",
       "      <td>site director knowledg univers</td>\n",
       "      <td>site director knowledg univ job summari knowle...</td>\n",
       "      <td>site director  knowledge universe</td>\n",
       "    </tr>\n",
       "    <tr>\n",
       "      <th>35827</th>\n",
       "      <td>administr assist officeteam</td>\n",
       "      <td>ref id 03110118480classif secretaryadmin asstc...</td>\n",
       "      <td>administr assist officeteam</td>\n",
       "      <td>administr assist officeteam ref id 03110118480...</td>\n",
       "      <td>administrative assistant  officeteam</td>\n",
       "    </tr>\n",
       "    <tr>\n",
       "      <th>72100</th>\n",
       "      <td>account manag chi payment system</td>\n",
       "      <td>yoursquor energet motiv hardwork look prosper ...</td>\n",
       "      <td>account manag chi payment system</td>\n",
       "      <td>account manag chi payment system yoursquor ene...</td>\n",
       "      <td>account manager  chi payment systems</td>\n",
       "    </tr>\n",
       "  </tbody>\n",
       "</table>\n",
       "</div>"
      ],
      "text/plain": [
       "                                  Title  \\\n",
       "64119       site director knowledg univ   \n",
       "35827       administr assist officeteam   \n",
       "72100  account manag chi payment system   \n",
       "\n",
       "                                         Job.Description  \\\n",
       "64119  job summari knowledg univ ku site director sit...   \n",
       "35827  ref id 03110118480classif secretaryadmin asstc...   \n",
       "72100  yoursquor energet motiv hardwork look prosper ...   \n",
       "\n",
       "                          Cleaned_Title  \\\n",
       "64119    site director knowledg univers   \n",
       "35827       administr assist officeteam   \n",
       "72100  account manag chi payment system   \n",
       "\n",
       "                                                 new_col  \\\n",
       "64119  site director knowledg univ job summari knowle...   \n",
       "35827  administr assist officeteam ref id 03110118480...   \n",
       "72100  account manag chi payment system yoursquor ene...   \n",
       "\n",
       "                                clean_title  \n",
       "64119     site director  knowledge universe  \n",
       "35827  administrative assistant  officeteam  \n",
       "72100  account manager  chi payment systems  "
      ]
     },
     "execution_count": 132,
     "metadata": {},
     "output_type": "execute_result"
    }
   ],
   "source": [
    "df['new_col'] = df['Title'] + ' ' + df['Job.Description']\n",
    "df.head(3)"
   ]
  },
  {
   "cell_type": "markdown",
   "id": "a157cde1-cf14-4261-98f0-fdfb9d4686e5",
   "metadata": {},
   "source": [
    "#Machine only knows numbers thats why we are dealing with vectors\n",
    "#cosine similarity to determine, smaller = more similarity\n",
    "#we take sentences as row and documents\n",
    "#tfidfvectrizer calculates the frequency of words in a sentence hence gives us vectors and the we determine the cosine similarity"
   ]
  },
  {
   "cell_type": "code",
   "execution_count": 133,
   "id": "0cf6dc0c-7459-42cd-94f2-98545567ea37",
   "metadata": {},
   "outputs": [],
   "source": [
    "from sklearn.feature_extraction.text import TfidfVectorizer\n",
    "from sklearn.metrics.pairwise import cosine_similarity"
   ]
  },
  {
   "cell_type": "code",
   "execution_count": 134,
   "id": "535675c3-ecf0-4b58-8923-f5a3bf8fe424",
   "metadata": {},
   "outputs": [],
   "source": [
    "tfidf = TfidfVectorizer()\n",
    "matrix = tfidf.fit_transform(df['new_col'])\n",
    "similarity = cosine_similarity(matrix)"
   ]
  },
  {
   "cell_type": "code",
   "execution_count": 135,
   "id": "f257e40b-0e6d-4d50-8eb0-72a896082611",
   "metadata": {},
   "outputs": [
    {
     "data": {
      "text/plain": [
       "array([[1.        , 0.04057243, 0.02596744, ..., 0.05634704, 0.02565254,\n",
       "        0.08485668],\n",
       "       [0.04057243, 1.        , 0.02663707, ..., 0.03247892, 0.00517727,\n",
       "        0.02358889],\n",
       "       [0.02596744, 0.02663707, 1.        , ..., 0.05841005, 0.02726075,\n",
       "        0.0420268 ],\n",
       "       ...,\n",
       "       [0.05634704, 0.03247892, 0.05841005, ..., 1.        , 0.06400824,\n",
       "        0.11716149],\n",
       "       [0.02565254, 0.00517727, 0.02726075, ..., 0.06400824, 1.        ,\n",
       "        0.38638129],\n",
       "       [0.08485668, 0.02358889, 0.0420268 , ..., 0.11716149, 0.38638129,\n",
       "        1.        ]])"
      ]
     },
     "execution_count": 135,
     "metadata": {},
     "output_type": "execute_result"
    }
   ],
   "source": [
    "similarity"
   ]
  },
  {
   "cell_type": "code",
   "execution_count": 136,
   "id": "c74f51eb-9824-4dd3-b1c7-5063809ef23c",
   "metadata": {},
   "outputs": [
    {
     "data": {
      "text/plain": [
       "<enumerate at 0x1c21f375cb0>"
      ]
     },
     "execution_count": 136,
     "metadata": {},
     "output_type": "execute_result"
    }
   ],
   "source": [
    "enumerate(similarity[0])"
   ]
  },
  {
   "cell_type": "code",
   "execution_count": 140,
   "id": "b7608712-9cbe-4033-95e8-0c3850f53462",
   "metadata": {},
   "outputs": [],
   "source": [
    "def recommendation(title):\n",
    "    idx = df[df['Title'] == title].index[0]\n",
    "    idx = df.index.get_loc(idx)\n",
    "    distances = sorted(list(enumerate(similarity[idx])),key=lambda x:x[1],reverse=True)[1:20]\n",
    "\n",
    "    jobs=[]\n",
    "    for i in distances:\n",
    "        jobs.append(df.iloc[i[0]].Title)\n",
    "    return jobs\n",
    "    "
   ]
  },
  {
   "cell_type": "code",
   "execution_count": 141,
   "id": "b22569b9-ef1f-4f7e-b0a6-7cbf3e79bfbe",
   "metadata": {},
   "outputs": [
    {
     "data": {
      "text/plain": [
       "['site director knowledg univ educ llc',\n",
       " 'teacher knowledg univ',\n",
       " 'assist teacher knowledg univ',\n",
       " 'assist teacher knowledg univ',\n",
       " 'cook knowledg univ',\n",
       " 'immedi open assist teacher la petit academi',\n",
       " 'summer school age assist children courtyard',\n",
       " 'hvac instructor vatterott educ center',\n",
       " 'temporari coordin site oper macyscom maci',\n",
       " 'medic offic assist instructor concord career colleg inc',\n",
       " 'fellowship program coordin connecticut children medic center',\n",
       " 'pharmaci adjunct instructor brown macki colleg',\n",
       " 'youth camp residenti assist activ coordin new york ny el educ servic',\n",
       " 'design bed sell specialist full timepart time bloomingd mall short hill nj maci',\n",
       " 'secur offic 100000 job coalit securita usa',\n",
       " 'secur offic regular securita usa',\n",
       " 'handbag sell specialist part time bloomingd chevi chase md bloomingd',\n",
       " 'men design sell specialist full timepart time bloomingd newport beach ca bloomingd',\n",
       " 'women shoe sale profess part time bloomingd 59th street nyc maci']"
      ]
     },
     "execution_count": 141,
     "metadata": {},
     "output_type": "execute_result"
    }
   ],
   "source": [
    "recommendation('site director knowledg univ')"
   ]
  },
  {
   "cell_type": "markdown",
   "id": "8db4975b-8e57-484c-8610-f4528e49202e",
   "metadata": {},
   "source": [
    "#website part"
   ]
  },
  {
   "cell_type": "code",
   "execution_count": 142,
   "id": "b02d7cc5-3f2d-458a-8b99-a80e32fbc8b2",
   "metadata": {},
   "outputs": [],
   "source": [
    "import pickle\n",
    "pickle.dump(df,open('df.pkl','wb'))\n",
    "pickle.dump(similarity,open('similarity.pkl','wb'))"
   ]
  },
  {
   "cell_type": "code",
   "execution_count": null,
   "id": "c65b691f-d34e-483c-b70d-5ec43f6c9116",
   "metadata": {},
   "outputs": [],
   "source": []
  }
 ],
 "metadata": {
  "kernelspec": {
   "display_name": "Python 3 (ipykernel)",
   "language": "python",
   "name": "python3"
  },
  "language_info": {
   "codemirror_mode": {
    "name": "ipython",
    "version": 3
   },
   "file_extension": ".py",
   "mimetype": "text/x-python",
   "name": "python",
   "nbconvert_exporter": "python",
   "pygments_lexer": "ipython3",
   "version": "3.12.5"
  }
 },
 "nbformat": 4,
 "nbformat_minor": 5
}
